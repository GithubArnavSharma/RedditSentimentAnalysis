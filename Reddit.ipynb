{
  "nbformat": 4,
  "nbformat_minor": 0,
  "metadata": {
    "colab": {
      "provenance": []
    },
    "kernelspec": {
      "name": "python3",
      "display_name": "Python 3"
    },
    "language_info": {
      "name": "python"
    }
  },
  "cells": [
    {
      "cell_type": "code",
      "execution_count": 2,
      "metadata": {
        "colab": {
          "base_uri": "https://localhost:8080/"
        },
        "id": "CBKNobyIyf-V",
        "outputId": "b3ea198a-9665-40e8-e99a-0fb430418ce0"
      },
      "outputs": [
        {
          "output_type": "stream",
          "name": "stdout",
          "text": [
            "Looking in indexes: https://pypi.org/simple, https://us-python.pkg.dev/colab-wheels/public/simple/\n",
            "Collecting praw\n",
            "  Downloading praw-7.6.1-py3-none-any.whl (188 kB)\n",
            "\u001b[2K     \u001b[90m━━━━━━━━━━━━━━━━━━━━━━━━━━━━━━━━━━━━━━━\u001b[0m \u001b[32m188.8/188.8 KB\u001b[0m \u001b[31m7.7 MB/s\u001b[0m eta \u001b[36m0:00:00\u001b[0m\n",
            "\u001b[?25hCollecting prawcore<3,>=2.1\n",
            "  Downloading prawcore-2.3.0-py3-none-any.whl (16 kB)\n",
            "Collecting websocket-client>=0.54.0\n",
            "  Downloading websocket_client-1.4.2-py3-none-any.whl (55 kB)\n",
            "\u001b[2K     \u001b[90m━━━━━━━━━━━━━━━━━━━━━━━━━━━━━━━━━━━━━━━━\u001b[0m \u001b[32m55.3/55.3 KB\u001b[0m \u001b[31m6.6 MB/s\u001b[0m eta \u001b[36m0:00:00\u001b[0m\n",
            "\u001b[?25hCollecting update-checker>=0.18\n",
            "  Downloading update_checker-0.18.0-py3-none-any.whl (7.0 kB)\n",
            "Requirement already satisfied: requests<3.0,>=2.6.0 in /usr/local/lib/python3.8/dist-packages (from prawcore<3,>=2.1->praw) (2.25.1)\n",
            "Requirement already satisfied: certifi>=2017.4.17 in /usr/local/lib/python3.8/dist-packages (from requests<3.0,>=2.6.0->prawcore<3,>=2.1->praw) (2022.12.7)\n",
            "Requirement already satisfied: idna<3,>=2.5 in /usr/local/lib/python3.8/dist-packages (from requests<3.0,>=2.6.0->prawcore<3,>=2.1->praw) (2.10)\n",
            "Requirement already satisfied: urllib3<1.27,>=1.21.1 in /usr/local/lib/python3.8/dist-packages (from requests<3.0,>=2.6.0->prawcore<3,>=2.1->praw) (1.24.3)\n",
            "Requirement already satisfied: chardet<5,>=3.0.2 in /usr/local/lib/python3.8/dist-packages (from requests<3.0,>=2.6.0->prawcore<3,>=2.1->praw) (4.0.0)\n",
            "Installing collected packages: websocket-client, update-checker, prawcore, praw\n",
            "Successfully installed praw-7.6.1 prawcore-2.3.0 update-checker-0.18.0 websocket-client-1.4.2\n"
          ]
        }
      ],
      "source": [
        "!pip install praw"
      ]
    },
    {
      "cell_type": "code",
      "source": [
        "import praw\n",
        "import time\n",
        "from praw.models import MoreComments\n",
        "import re\n",
        "import numpy as np\n",
        "import pandas as pd\n",
        "import matplotlib.pyplot as plt\n",
        "import seaborn as sns\n",
        "from sklearn.model_selection import train_test_split\n",
        "from sklearn.preprocessing import MaxAbsScaler\n",
        "from sklearn.pipeline import Pipeline\n",
        "from sklearn.feature_extraction.text import CountVectorizer, TfidfTransformer\n",
        "from sklearn.linear_model import LogisticRegression, Ridge\n",
        "from sklearn.svm import SVR\n",
        "from sklearn.ensemble import RandomForestRegressor\n",
        "from sklearn.metrics import classification_report, confusion_matrix, plot_confusion_matrix\n",
        "from sklearn.svm import SVC\n",
        "from sklearn.ensemble import RandomForestClassifier, VotingClassifier"
      ],
      "metadata": {
        "id": "7tLmxxuxzqe7"
      },
      "execution_count": 3,
      "outputs": []
    },
    {
      "cell_type": "code",
      "source": [
        "df = pd.read_csv('sample_data/Tweets.csv')\n",
        "print(df.shape)\n",
        "print(df.head())"
      ],
      "metadata": {
        "colab": {
          "base_uri": "https://localhost:8080/"
        },
        "id": "q-lNFd4h7eMY",
        "outputId": "0cebf6fd-6172-4ef1-f671-24afaec6151f"
      },
      "execution_count": 10,
      "outputs": [
        {
          "output_type": "stream",
          "name": "stdout",
          "text": [
            "(14640, 15)\n",
            "             tweet_id airline_sentiment  airline_sentiment_confidence  \\\n",
            "0  570306133677760513           neutral                        1.0000   \n",
            "1  570301130888122368          positive                        0.3486   \n",
            "2  570301083672813571           neutral                        0.6837   \n",
            "3  570301031407624196          negative                        1.0000   \n",
            "4  570300817074462722          negative                        1.0000   \n",
            "\n",
            "  negativereason  negativereason_confidence         airline  \\\n",
            "0            NaN                        NaN  Virgin America   \n",
            "1            NaN                     0.0000  Virgin America   \n",
            "2            NaN                        NaN  Virgin America   \n",
            "3     Bad Flight                     0.7033  Virgin America   \n",
            "4     Can't Tell                     1.0000  Virgin America   \n",
            "\n",
            "  airline_sentiment_gold        name negativereason_gold  retweet_count  \\\n",
            "0                    NaN     cairdin                 NaN              0   \n",
            "1                    NaN    jnardino                 NaN              0   \n",
            "2                    NaN  yvonnalynn                 NaN              0   \n",
            "3                    NaN    jnardino                 NaN              0   \n",
            "4                    NaN    jnardino                 NaN              0   \n",
            "\n",
            "                                                text tweet_coord  \\\n",
            "0                @VirginAmerica What @dhepburn said.         NaN   \n",
            "1  @VirginAmerica plus you've added commercials t...         NaN   \n",
            "2  @VirginAmerica I didn't today... Must mean I n...         NaN   \n",
            "3  @VirginAmerica it's really aggressive to blast...         NaN   \n",
            "4  @VirginAmerica and it's a really big bad thing...         NaN   \n",
            "\n",
            "               tweet_created tweet_location               user_timezone  \n",
            "0  2015-02-24 11:35:52 -0800            NaN  Eastern Time (US & Canada)  \n",
            "1  2015-02-24 11:15:59 -0800            NaN  Pacific Time (US & Canada)  \n",
            "2  2015-02-24 11:15:48 -0800      Lets Play  Central Time (US & Canada)  \n",
            "3  2015-02-24 11:15:36 -0800            NaN  Pacific Time (US & Canada)  \n",
            "4  2015-02-24 11:14:45 -0800            NaN  Pacific Time (US & Canada)  \n"
          ]
        }
      ]
    },
    {
      "cell_type": "code",
      "source": [
        "def clean_tweet(tweet):\n",
        "  tweet = tweet.strip().lower().split()\n",
        "  tweet = [word for word in tweet if 'http' not in word]\n",
        "  tweet = ' '.join([re.sub(r\"[^a-zA-Z0-9 ]\", \"\", word) for word in tweet if '@' not in word])\n",
        "  return tweet\n",
        "\n",
        "df['text'] = df['text'].apply(lambda x: clean_tweet(x))\n",
        "print(df['text'])"
      ],
      "metadata": {
        "colab": {
          "base_uri": "https://localhost:8080/"
        },
        "id": "6CZIFQ1E70XX",
        "outputId": "e60e9680-394b-466f-d838-1bbf89ae93cf"
      },
      "execution_count": 11,
      "outputs": [
        {
          "output_type": "stream",
          "name": "stdout",
          "text": [
            "0                                                what said\n",
            "1        plus youve added commercials to the experience...\n",
            "2        i didnt today must mean i need to take another...\n",
            "3        its really aggressive to blast obnoxious enter...\n",
            "4                  and its a really big bad thing about it\n",
            "                               ...                        \n",
            "14635    thank you we got on a different flight to chicago\n",
            "14636    leaving over 20 minutes late flight no warning...\n",
            "14637       please bring american airlines to blackberry10\n",
            "14638    you have my money you change my flight and don...\n",
            "14639    we have 8 ppl so we need 2 know how many seats...\n",
            "Name: text, Length: 14640, dtype: object\n"
          ]
        }
      ]
    },
    {
      "cell_type": "code",
      "source": [
        "print(df['airline_sentiment'].value_counts())\n",
        "\n",
        "df['airline_sentiment'] = df['airline_sentiment'].map({'negative': -1, 'neutral': 0, 'positive': 1})\n",
        "df = df.sort_values(by='airline_sentiment')\n",
        "\n",
        "print(df['airline_sentiment'])"
      ],
      "metadata": {
        "colab": {
          "base_uri": "https://localhost:8080/"
        },
        "id": "beckF-pxqSpq",
        "outputId": "2ca204aa-dae7-45db-dad3-4b403c923d5b"
      },
      "execution_count": 12,
      "outputs": [
        {
          "output_type": "stream",
          "name": "stdout",
          "text": [
            "negative    9178\n",
            "neutral     3099\n",
            "positive    2363\n",
            "Name: airline_sentiment, dtype: int64\n",
            "7319    -1\n",
            "11625   -1\n",
            "6512    -1\n",
            "11624   -1\n",
            "6514    -1\n",
            "        ..\n",
            "4822     1\n",
            "7735     1\n",
            "4818     1\n",
            "10895    1\n",
            "4078     1\n",
            "Name: airline_sentiment, Length: 14640, dtype: int64\n"
          ]
        }
      ]
    },
    {
      "cell_type": "code",
      "source": [
        "df = df[6815:]\n",
        "df1 = df[:2363]\n",
        "df2 = df[3099:]\n",
        "df = pd.concat([df1, df2])\n",
        "\n",
        "df['airline_sentiment'] = df['airline_sentiment'].map({-1: 'negative', 0: 'neutral', 1: 'positive'})\n",
        "print(df['airline_sentiment'].value_counts())"
      ],
      "metadata": {
        "colab": {
          "base_uri": "https://localhost:8080/"
        },
        "id": "1h6q-nUvqq5f",
        "outputId": "bb6a73e5-3b80-4518-fc1c-edd9d5dec625"
      },
      "execution_count": 13,
      "outputs": [
        {
          "output_type": "stream",
          "name": "stdout",
          "text": [
            "negative    2363\n",
            "neutral     2363\n",
            "positive    2363\n",
            "Name: airline_sentiment, dtype: int64\n"
          ]
        }
      ]
    },
    {
      "cell_type": "code",
      "source": [
        "X = df['text']\n",
        "y = df['airline_sentiment']\n",
        "\n",
        "X_train, X_test, y_train, y_test = train_test_split(X, y, test_size=0.25, random_state=0)\n",
        "\n",
        "model = Pipeline([\n",
        "      ('count', CountVectorizer()),\n",
        "      ('tfidf', TfidfTransformer()),\n",
        "      ('scale', MaxAbsScaler()),\n",
        "      ('alg', LogisticRegression(max_iter=10000)) \n",
        "])\n",
        "\n",
        "model.fit(X_train, y_train)\n",
        "\n",
        "print(model.score(X_test, y_test))"
      ],
      "metadata": {
        "colab": {
          "base_uri": "https://localhost:8080/"
        },
        "id": "FXf0mTJs9szM",
        "outputId": "19d5b353-5324-4328-9293-b82ab09d9428"
      },
      "execution_count": 14,
      "outputs": [
        {
          "output_type": "stream",
          "name": "stdout",
          "text": [
            "0.7366046249294981\n"
          ]
        }
      ]
    },
    {
      "cell_type": "code",
      "source": [
        "print(plot_confusion_matrix(model, X_test, y_test))"
      ],
      "metadata": {
        "colab": {
          "base_uri": "https://localhost:8080/",
          "height": 353
        },
        "id": "sRaW2_mW9-MF",
        "outputId": "c3b5429e-fc16-408e-9fdc-76a97ca00724"
      },
      "execution_count": null,
      "outputs": [
        {
          "output_type": "stream",
          "name": "stderr",
          "text": [
            "/usr/local/lib/python3.8/dist-packages/sklearn/utils/deprecation.py:87: FutureWarning: Function plot_confusion_matrix is deprecated; Function `plot_confusion_matrix` is deprecated in 1.0 and will be removed in 1.2. Use one of the class methods: ConfusionMatrixDisplay.from_predictions or ConfusionMatrixDisplay.from_estimator.\n",
            "  warnings.warn(msg, category=FutureWarning)\n"
          ]
        },
        {
          "output_type": "stream",
          "name": "stdout",
          "text": [
            "<sklearn.metrics._plot.confusion_matrix.ConfusionMatrixDisplay object at 0x7f72b7f70790>\n"
          ]
        },
        {
          "output_type": "display_data",
          "data": {
            "text/plain": [
              "<Figure size 432x288 with 2 Axes>"
            ],
            "image/png": "[encoded data removed]"
          },
          "metadata": {
            "needs_background": "light"
          }
        }
      ]
    },
    {
      "cell_type": "code",
      "source": [
        "reddit = praw.Reddit(client_id='GonTIEqiw0BUCJHvltRDZg', client_secret='LRZrdlt-EJdlbUF9cYkBCxhf5CNj6g', user_agent='Scraping', check_for_async=False)"
      ],
      "metadata": {
        "id": "SzGifeeDzl4N"
      },
      "execution_count": 15,
      "outputs": []
    },
    {
      "cell_type": "code",
      "source": [
        "top_posts = reddit.subreddit('Conservative').hot(limit=1000)\n",
        "\n",
        "conservative_comments = []\n",
        "num_posts = 0\n",
        "for post in top_posts:\n",
        "  num_comments = 0\n",
        "  for comment in post.comments:\n",
        "    if not comment.stickied and not isinstance(comment, MoreComments):\n",
        "      comment_body = str(comment.body)\n",
        "      conservative_comments.append(comment_body)\n",
        "      num_comments += 1\n",
        "    if (num_comments == 10): break\n",
        "\n",
        "  num_posts += 1\n",
        "  if (num_posts % 100 == 0):\n",
        "    print(f\"Completed {num_posts} so far!\")\n",
        "\n",
        "print(len(conservative_comments))\n",
        "print(conservative_comments[-1])"
      ],
      "metadata": {
        "colab": {
          "base_uri": "https://localhost:8080/"
        },
        "id": "c-YskDgO0Y6r",
        "outputId": "04bda03c-19b9-4ef0-c85c-02c46bb4f109"
      },
      "execution_count": 18,
      "outputs": [
        {
          "output_type": "stream",
          "name": "stdout",
          "text": [
            "Completed 100 so far!\n"
          ]
        },
        {
          "output_type": "stream",
          "name": "stderr",
          "text": [
            "WARNING:prawcore:Retrying due to ConnectionError(ProtocolError('Connection aborted.', ConnectionResetError(104, 'Connection reset by peer'))) status: GET https://oauth.reddit.com/comments/1038u5e/\n"
          ]
        },
        {
          "output_type": "stream",
          "name": "stdout",
          "text": [
            "Completed 200 so far!\n",
            "Completed 300 so far!\n",
            "Completed 400 so far!\n",
            "Completed 500 so far!\n",
            "Completed 600 so far!\n",
            "Completed 700 so far!\n",
            "4183\n",
            "Armalite offers some pretty inexpensive options that will also work.\n"
          ]
        }
      ]
    },
    {
      "cell_type": "code",
      "source": [
        "top_posts = reddit.subreddit('politics').hot(limit=1000)\n",
        "\n",
        "liberal_comments = []\n",
        "num_posts = 0\n",
        "for post in top_posts:\n",
        "  num_comments = 0\n",
        "  for comment in post.comments:\n",
        "    if not comment.stickied and not isinstance(comment, MoreComments):\n",
        "      comment_body = str(comment.body)\n",
        "      liberal_comments.append(comment_body)\n",
        "      num_comments += 1\n",
        "    if (num_comments == 10): break\n",
        "\n",
        "  num_posts += 1\n",
        "  if (num_posts % 100 == 0):\n",
        "    print(f\"Completed {num_posts} so far!\")\n",
        "\n",
        "print(len(liberal_comments))\n",
        "print(liberal_comments[-1])"
      ],
      "metadata": {
        "colab": {
          "base_uri": "https://localhost:8080/"
        },
        "id": "j_gaQBmTJciA",
        "outputId": "846191c4-55f3-4a74-d928-4ac778e59033"
      },
      "execution_count": null,
      "outputs": [
        {
          "output_type": "stream",
          "name": "stdout",
          "text": [
            "Completed 100 so far!\n",
            "Completed 200 so far!\n",
            "Completed 300 so far!\n",
            "Completed 400 so far!\n",
            "Completed 500 so far!\n",
            "Completed 600 so far!\n",
            "Completed 700 so far!\n",
            "5969\n",
            "Gooble gobble! One of us! One of us!\n"
          ]
        }
      ]
    },
    {
      "cell_type": "code",
      "source": [
        "total_comments = conservative_comments + liberal_comments\n",
        "identification = [0 for i in range(len(conservative_comments))] + [1 for i in range(len(liberal_comments))]\n",
        "\n",
        "df = pd.DataFrame({\n",
        "    'Comment': total_comments,\n",
        "    'Politics':identification\n",
        "})\n",
        "df.to_csv('sample_data/politics.csv', index=False)"
      ],
      "metadata": {
        "id": "_L9oTYzSQDN-"
      },
      "execution_count": null,
      "outputs": []
    },
    {
      "cell_type": "code",
      "source": [
        "df = pd.read_csv('sample_data/politics.csv')"
      ],
      "metadata": {
        "id": "vraJEDzKdqRT"
      },
      "execution_count": null,
      "outputs": []
    },
    {
      "cell_type": "code",
      "source": [
        "df['Comment'] = df['Comment'].apply(lambda c: clean_tweet(c))\n",
        "print(df['Comment'])"
      ],
      "metadata": {
        "colab": {
          "base_uri": "https://localhost:8080/"
        },
        "id": "w2QYR8efD457",
        "outputId": "05d3d627-755d-4b9c-bd9d-b7b10225bf9c"
      },
      "execution_count": null,
      "outputs": [
        {
          "output_type": "stream",
          "name": "stdout",
          "text": [
            "0        amazing how quickly twitter went from being a ...\n",
            "1        the only thing that should be heavy regulated ...\n",
            "2           influential people like this should be ignored\n",
            "3        dudes career must be in the gutter if this is ...\n",
            "4        ive said this so many times before but leftwin...\n",
            "                               ...                        \n",
            "10529                when do we get to hear more testimony\n",
            "10530                           what did you do josh lyman\n",
            "10531    classic narcissist although most manage to not...\n",
            "10532    the thumbnail makes him look like a pointyhead...\n",
            "10533                    gooble gobble one of us one of us\n",
            "Name: Comment, Length: 10534, dtype: object\n"
          ]
        }
      ]
    },
    {
      "cell_type": "code",
      "source": [
        "df['sentiment'] = np.array(model.predict(df['Comment'])).flatten()\n",
        "df['sentiment'] = pd.Categorical(df['sentiment'], ['negative', 'neutral', 'positive'])\n",
        "\n",
        "liberal_sentiment = df[df['Politics'] == 1]['sentiment']\n",
        "conservative_sentiment = df[df['Politics'] == 0]['sentiment']\n",
        "\n",
        "plt.xlabel('Sentiment')\n",
        "plt.ylabel('Count')\n",
        "plt.title('Liberal Sentiments')\n",
        "sns.histplot(x=liberal_sentiment, color='b')\n",
        "plt.show()\n",
        "\n",
        "plt.xlabel('Sentiment')\n",
        "plt.ylabel('Count')\n",
        "plt.title('Conservative Sentiments')\n",
        "sns.histplot(x=conservative_sentiment, color='r')\n",
        "plt.show()"
      ],
      "metadata": {
        "colab": {
          "base_uri": "https://localhost:8080/",
          "height": 573
        },
        "id": "ZvDcCHXoYDxr",
        "outputId": "50357e70-e9de-4bbc-a670-b55c48797d1d"
      },
      "execution_count": null,
      "outputs": [
        {
          "output_type": "display_data",
          "data": {
            "text/plain": [
              "<Figure size 432x288 with 1 Axes>"
            ],
            "image/png": "[encoded data removed]"
          },
          "metadata": {
            "needs_background": "light"
          }
        },
        {
          "output_type": "display_data",
          "data": {
            "text/plain": [
              "<Figure size 432x288 with 1 Axes>"
            ],
            "image/png": "[encoded data removed]"
          },
          "metadata": {
            "needs_background": "light"
          }
        }
      ]
    },
    {
      "cell_type": "code",
      "source": [
        "df['num_words'] = df['Comment'].apply(lambda c: len(c.split()))\n",
        "\n",
        "sns.barplot(x='sentiment', y='num_words', data=df)\n",
        "plt.xlabel('Sentiment')\n",
        "plt.ylabel('Num Words')\n",
        "plt.title('Lengths of different sentiment comments')\n",
        "plt.show()"
      ],
      "metadata": {
        "colab": {
          "base_uri": "https://localhost:8080/",
          "height": 295
        },
        "id": "NulPDtqEDeZf",
        "outputId": "24d79774-fa6a-45ad-b9b3-ad9fb54915d4"
      },
      "execution_count": null,
      "outputs": [
        {
          "output_type": "display_data",
          "data": {
            "text/plain": [
              "<Figure size 432x288 with 1 Axes>"
            ],
            "image/png": "[encoded data removed]"
          },
          "metadata": {
            "needs_background": "light"
          }
        }
      ]
    },
    {
      "cell_type": "code",
      "source": [
        "news_top = reddit.subreddit('news').top(limit=100)\n",
        "\n",
        "post_titles = []\n",
        "all_comments = []\n",
        "num_posts = 0\n",
        "curr = time.time()\n",
        "for post in news_top:\n",
        "  post_titles.append(post.title)\n",
        "\n",
        "  num_comments = 0\n",
        "  comments_list =[]\n",
        "\n",
        "  for comment in post.comments:\n",
        "    if not comment.stickied and not isinstance(comment, MoreComments):\n",
        "      comment_body = clean_tweet(comment.body)\n",
        "      comments_list.append(comment_body)\n",
        "      num_comments += 1\n",
        "    if (num_comments == 10): break\n",
        "\n",
        "  all_comments.append(comments_list)\n",
        "\n",
        "  num_posts += 1\n",
        "  if (num_posts % 10 == 0):\n",
        "    secs = int(time.time() - curr)\n",
        "    print(f\"Completed 10 so far in {secs} seconds, now at {num_posts} posts completed!\")\n",
        "    curr = time.time()\n",
        "\n",
        "print(np.array(all_comments).shape)\n",
        "print(len(post_titles))"
      ],
      "metadata": {
        "id": "VtybY205gLYb",
        "colab": {
          "base_uri": "https://localhost:8080/"
        },
        "outputId": "61f84874-6e78-4fb4-8dd0-832a530c9bc0"
      },
      "execution_count": null,
      "outputs": [
        {
          "output_type": "stream",
          "name": "stdout",
          "text": [
            "Completed 10 so far in 61 seconds, now at 10 posts completed!\n",
            "Completed 10 so far in 51 seconds, now at 20 posts completed!\n",
            "Completed 10 so far in 48 seconds, now at 30 posts completed!\n",
            "Completed 10 so far in 49 seconds, now at 40 posts completed!\n",
            "Completed 10 so far in 78 seconds, now at 50 posts completed!\n",
            "Completed 10 so far in 152 seconds, now at 60 posts completed!\n",
            "Completed 10 so far in 132 seconds, now at 70 posts completed!\n",
            "Completed 10 so far in 55 seconds, now at 80 posts completed!\n",
            "Completed 10 so far in 55 seconds, now at 90 posts completed!\n",
            "Completed 10 so far in 48 seconds, now at 100 posts completed!\n",
            "(100, 10)\n",
            "100\n"
          ]
        }
      ]
    },
    {
      "cell_type": "code",
      "source": [
        "preds = model.predict(np.array(all_comments).flatten())\n",
        "\n",
        "strToNum = {'negative': -1, 'neutral': 0, 'positive': 1}\n",
        "preds = [strToNum[pred] for pred in preds]\n",
        "\n",
        "avgs = []\n",
        "for i in range(0, len(preds), 10):\n",
        "  the_preds = preds[i:i+10]\n",
        "  mean = np.array(the_preds).mean()\n",
        "  avgs.append(mean)\n",
        "\n",
        "sns.displot(avgs)\n",
        "plt.xlabel('Averages')\n",
        "plt.title('Distribution of Sentiments')\n",
        "plt.show()"
      ],
      "metadata": {
        "colab": {
          "base_uri": "https://localhost:8080/",
          "height": 399
        },
        "id": "sAbgHobDtFGO",
        "outputId": "f357a59d-a512-4ee2-8847-6ef569d4f344"
      },
      "execution_count": null,
      "outputs": [
        {
          "output_type": "display_data",
          "data": {
            "text/plain": [
              "<Figure size 360x360 with 1 Axes>"
            ],
            "image/png": "[encoded data removed]"
          },
          "metadata": {
            "needs_background": "light"
          }
        }
      ]
    },
    {
      "cell_type": "code",
      "source": [
        "index_lowest = [i for i in range(len(avgs)) if avgs[i] == min(avgs)][0]\n",
        "index_highest = [i for i in range(len(avgs)) if avgs[i] == max(avgs)][0]\n",
        "\n",
        "negative_post = post_titles[index_lowest]\n",
        "amount_negative = min(avgs)\n",
        "positive_post = post_titles[index_highest]\n",
        "amount_positive = max(avgs)\n",
        "\n",
        "print(f\"Most negatively seen post, with the average rating of {amount_negative}:\")\n",
        "print(negative_post + \"\\n\")\n",
        "\n",
        "print(f\"Most positvely seen post, with the average rating of {amount_positive}:\")\n",
        "print(positive_post)\n",
        "\n"
      ],
      "metadata": {
        "colab": {
          "base_uri": "https://localhost:8080/"
        },
        "id": "gM_NHSoN1BM8",
        "outputId": "55101208-1354-47d5-f729-5f5fb5de7ef6"
      },
      "execution_count": null,
      "outputs": [
        {
          "output_type": "stream",
          "name": "stdout",
          "text": [
            "Most negatively seen post, with the average rating of -0.9:\n",
            "Family of 11-year-old boy who died in Texas deep freeze files $100 million suit against power companies\n",
            "\n",
            "Most positvely seen post, with the average rating of 0.5:\n",
            "Report: Stan Lee dead at 95 - Story\n"
          ]
        }
      ]
    },
    {
      "cell_type": "code",
      "source": [
        "for post, rating in zip(post_titles, avgs):\n",
        "  print(f\"Post: {post}\\nAverage Rating: {rating}\\n\")"
      ],
      "metadata": {
        "colab": {
          "base_uri": "https://localhost:8080/"
        },
        "id": "olkQ5vqV11yD",
        "outputId": "bc2ce496-bdad-4bf2-e538-927ec7eec1cb"
      },
      "execution_count": null,
      "outputs": [
        {
          "output_type": "stream",
          "name": "stdout",
          "text": [
            "Post: Joe Biden elected president of the United States\n",
            "Average Rating: -0.4\n",
            "\n",
            "Post: Chauvin found guilty of murder, manslaughter in George Floyd's death\n",
            "Average Rating: -0.5\n",
            "\n",
            "Post: President Donald Trump says he has tested positive for coronavirus\n",
            "Average Rating: -0.3\n",
            "\n",
            "Post: Blizzard Employees Staged a Walkout After the Company Banned a Gamer for Pro-Hong Kong Views\n",
            "Average Rating: -0.5\n",
            "\n",
            "Post: Trump has left the White House for the last time as President\n",
            "Average Rating: 0.2\n",
            "\n",
            "Post: Kobe Bryant killed in helicopter crash in California\n",
            "Average Rating: -0.6\n",
            "\n",
            "Post: 'Jeopardy' host Alex Trebek dies at 80 due to pancreatic cancer\n",
            "Average Rating: -0.2\n",
            "\n",
            "Post: Queen Elizabeth II, has died\n",
            "Average Rating: -0.3\n",
            "\n",
            "Post: Scientist Stephen Hawking has died aged 76\n",
            "Average Rating: -0.1\n",
            "\n",
            "Post: Jeffrey Epstein's autopsy more consistent with homicidal strangulation than suicide, Dr. Michael Baden reveals\n",
            "Average Rating: -0.3\n",
            "\n",
            "Post: F.C.C. Announces Plan to Repeal Net Neutrality\n",
            "Average Rating: -0.5\n",
            "\n",
            "Post: Joe Biden officially sworn in as the 46th President of the United States, Kamala Harris as the 49th Vice-President\n",
            "Average Rating: -0.1\n",
            "\n",
            "Post: Donald Trump impeached for ‘inciting’ US Capitol riot\n",
            "Average Rating: 0.3\n",
            "\n",
            "Post: Amber Heard Found Liable for Damages Against Johnny Depp\n",
            "Average Rating: -0.2\n",
            "\n",
            "Post: Supreme Court rules workers can't be fired for being gay or transgender\n",
            "Average Rating: -0.5\n",
            "\n",
            "Post: Twitter permanently suspends Trump’s account\n",
            "Average Rating: -0.1\n",
            "\n",
            "Post: Jeffrey Epstein, accused sex trafficker, dies by suicide: Officials\n",
            "Average Rating: -0.4\n",
            "\n",
            "Post: Russia declares war on Ukraine, reports of shelling at port city\n",
            "Average Rating: -0.5\n",
            "\n",
            "Post: FBI executes search warrant at Trump's Mar-a-Lago\n",
            "Average Rating: -0.2\n",
            "\n",
            "Post: Ghislane Maxwell, long-time friend and confidante of Jeffrey Epstein, has been arrested by the FBI and charged by federal prosecutors\n",
            "Average Rating: -0.1\n",
            "\n",
            "Post: Betty White dies at 99, weeks before 100th birthday, according to reports\n",
            "Average Rating: 0.4\n",
            "\n",
            "Post: In a new court hearing, Britney Spears' father loses bid to retain complete control of his daughter's financial investments\n",
            "Average Rating: -0.1\n",
            "\n",
            "Post: Derek Chauvin sentenced to 22.5 years in prison for murder of George Floyd\n",
            "Average Rating: -0.3\n",
            "\n",
            "Post: Report: Stan Lee dead at 95 - Story\n",
            "Average Rating: 0.5\n",
            "\n",
            "Post: Biden to pardon all prior federal offenses of simple marijuana possession\n",
            "Average Rating: 0.0\n",
            "\n",
            "Post: Arizona Senator John McCain has passed away at the age of 81\n",
            "Average Rating: 0.0\n",
            "\n",
            "Post: President Trump has been impeached\n",
            "Average Rating: -0.5\n",
            "\n",
            "Post: Justice Ruth Bader Ginsburg, Champion Of Gender Equality, Dies At 87\n",
            "Average Rating: 0.3\n",
            "\n",
            "Post: Ukraine: Arnold Schwarzenegger's anti-war video trends on Russian social media\n",
            "Average Rating: 0.2\n",
            "\n",
            "Post: Online influencer Jake Paul charged after Scottsdale looting\n",
            "Average Rating: -0.4\n",
            "\n",
            "Post: Ghislaine Maxwell found guilty in sex-trafficking trial\n",
            "Average Rating: -0.5\n",
            "\n",
            "Post: Apple admits it slows older iPhones, confirming Geekbench report\n",
            "Average Rating: -0.6\n",
            "\n",
            "Post: NY Times: Trump paid $750 in US income taxes in 2016, 2017\n",
            "Average Rating: -0.7\n",
            "\n",
            "Post: Net Neutrality Overturned\n",
            "Average Rating: -0.8\n",
            "\n",
            "Post: Congress has certified the 270 Electoral College votes needed to confirm Joe Biden's presidential election win.\n",
            "Average Rating: -0.3\n",
            "\n",
            "Post: Alex Jones guilty in all four Sandy Hook defamation cases\n",
            "Average Rating: -0.7\n",
            "\n",
            "Post: FCC Chairman Ajit Pai will step down on January 20\n",
            "Average Rating: -0.4\n",
            "\n",
            "Post: GBI arrests father, son for murder of Ahmaud Arbery\n",
            "Average Rating: -0.7\n",
            "\n",
            "Post: Melvin Capital, hedge fund that bet against GameStop, lost more than 50% in January\n",
            "Average Rating: 0.0\n",
            "\n",
            "Post: Wife of officer charged with murder of George Floyd announces she's divorcing him\n",
            "Average Rating: -0.2\n",
            "\n",
            "Post: Supreme Court overturns Roe v. Wade; states can ban abortion\n",
            "Average Rating: -0.6\n",
            "\n",
            "Post: Family of 11-year-old boy who died in Texas deep freeze files $100 million suit against power companies\n",
            "Average Rating: -0.9\n",
            "\n",
            "Post: Judge permanently dismisses charges against Kenneth Walker, boyfriend of Breonna Taylor\n",
            "Average Rating: -0.3\n",
            "\n",
            "Post: Leader of North Carolina lockdown Protest group tests positive for COVID-19\n",
            "Average Rating: -0.7\n",
            "\n",
            "Post: Travis Scott Sued Over ‘Predictable And Preventable’ Astroworld Tragedy\n",
            "Average Rating: -0.2\n",
            "\n",
            "Post: Kanye West removed from Illinois Presidential ballot after nearly 2,000 invalid signatures discovered\n",
            "Average Rating: -0.3\n",
            "\n",
            "Post: Losses on short positions in U.S. firms top $70 billion\n",
            "Average Rating: -0.5\n",
            "\n",
            "Post: $1 million bounty on Putin offered by Russian businessman\n",
            "Average Rating: -0.2\n",
            "\n",
            "Post: Georgia Rep. Marjorie Taylor Greene's husband files for divorce\n",
            "Average Rating: -0.2\n",
            "\n",
            "Post: Ahmaud Arbery verdict: three men found guilty of murdering Black man as he jogged\n",
            "Average Rating: -0.1\n",
            "\n",
            "Post: Trump campaign loses lawsuit seeking to halt Michigan vote count\n",
            "Average Rating: -0.3\n",
            "\n",
            "Post: Portland sees peaceful night of protests following withdrawal of federal troops\n",
            "Average Rating: -0.5\n",
            "\n",
            "Post: Former President George H.W. Bush Dies at 94\n",
            "Average Rating: -0.5\n",
            "\n",
            "Post: Illinois’ Top Legal Officer Wants To License Cops, Just Like Doctors, Hairdressers\n",
            "Average Rating: -0.1\n",
            "\n",
            "Post: North Carolina man arrested after he’s discovered with guns, explosives in plot to assassinate Joe Biden\n",
            "Average Rating: -0.7\n",
            "\n",
            "Post: Underage girl forced to have sex with Prince Andrew, US court document claims\n",
            "Average Rating: 0.0\n",
            "\n",
            "Post: Japanese firm gives non-smokers extra six days holiday to compensate for cigarette break\n",
            "Average Rating: -0.8\n",
            "\n",
            "Post: Entire staffs at 3 Sonic locations quit after wages cut to $4/hour plus tips\n",
            "Average Rating: -0.7\n",
            "\n",
            "Post: #DeleteFacebook Movement Gains Steam After 50 Million Users Have Data Leaked\n",
            "Average Rating: -0.1\n",
            "\n",
            "Post: Pregnant Texas woman driving in HOV lane told police her unborn child counted as a passenger\n",
            "Average Rating: -0.2\n",
            "\n",
            "Post: Chester Bennington of Linkin Park commits suicide\n",
            "Average Rating: -0.8\n",
            "\n",
            "Post: Biden revokes presidential permit for Keystone XL pipeline expansion on 1st day\n",
            "Average Rating: -0.6\n",
            "\n",
            "Post: Raphael Warnock beats Trump pick Herschel Walker in Georgia Senate runoff, NBC projects\n",
            "Average Rating: -0.5\n",
            "\n",
            "Post: Fox News publishes digitally altered and misleading images of Seattle demonstrations\n",
            "Average Rating: -0.1\n",
            "\n",
            "Post: Ghislaine Maxwell Charged With Sex Trafficking of 14-Year-Old Girl\n",
            "Average Rating: -0.3\n",
            "\n",
            "Post: Harvey Weinstein sentenced to 23 years in prison for sex assault in case that sparked 'MeToo' movement\n",
            "Average Rating: -0.2\n",
            "\n",
            "Post: Colorado governor signs police accountability bill, ending qualified immunity defense in the state\n",
            "Average Rating: -0.4\n",
            "\n",
            "Post: Man dies in Arizona after being restrained by police on hot tarmac for six minutes\n",
            "Average Rating: -0.3\n",
            "\n",
            "Post: U.S. President Donald Trump fired the federal government's top lawyer Sally Yates on Monday after she took the extraordinarily rare step of defying the White House and refused to defend new travel restrictions targeting seven Muslim-majority nations.\n",
            "Average Rating: -0.6\n",
            "\n",
            "Post: New Virginia law capping insulin prices at $50 a month goes into effect Friday\n",
            "Average Rating: -0.3\n",
            "\n",
            "Post: Uvalde police, school district no longer cooperating with Texas probe of shooting\n",
            "Average Rating: -0.5\n",
            "\n",
            "Post: Gay men have taken over the Proud Boys Twitter hashtag\n",
            "Average Rating: -0.1\n",
            "\n",
            "Post: Police shoot 13-year-old boy with autism several times after mother calls for help\n",
            "Average Rating: -0.8\n",
            "\n",
            "Post: Airspace now restricted over Biden’s home\n",
            "Average Rating: -0.4\n",
            "\n",
            "Post: Blizzard pulls Blitzchung from Hearthstone tournament over support for Hong Kong protests\n",
            "Average Rating: -0.4\n",
            "\n",
            "Post: Black woman shot and killed after Kentucky police entered her home as she slept, family says\n",
            "Average Rating: -0.7\n",
            "\n",
            "Post: Supreme Court rules New York prosecutor can get Trump's tax returns\n",
            "Average Rating: 0.1\n",
            "\n",
            "Post: Judge orders U.S. Postal Service to treat all election mail as 1st class or priority | CBC News\n",
            "Average Rating: -0.4\n",
            "\n",
            "Post: Marine Corps Bans Public Display of Confederate Flag\n",
            "Average Rating: -0.2\n",
            "\n",
            "Post: Some U.S. Capitol rioters fired after internet detectives identify them\n",
            "Average Rating: -0.3\n",
            "\n",
            "Post: Donald Trump calls for delay to 2020 US presidential election\n",
            "Average Rating: -0.5\n",
            "\n",
            "Post: U.S. Supreme Court lets Flint, Michigan residents sue over water contamination\n",
            "Average Rating: -0.2\n",
            "\n",
            "Post: Fired Wilmington cop: “We are just going to go out and start slaughtering them f—— ni—–. I can’t wait. God, I can’t wait.”\n",
            "Average Rating: -0.7\n",
            "\n",
            "Post: Italy bans unvaccinated children from school\n",
            "Average Rating: -0.2\n",
            "\n",
            "Post: 'Black Panther' actor Chadwick Boseman dies at 43 after 4-year fight with colon cancer\n",
            "Average Rating: -0.1\n",
            "\n",
            "Post: Arresting officer in George Floyd case taken into custody by BCA\n",
            "Average Rating: -0.4\n",
            "\n",
            "Post: Britney Spears' conservatorship is brought to an end after 13 years\n",
            "Average Rating: -0.2\n",
            "\n",
            "Post: Assaulting a worker who's enforcing masks is now a felony under a new Illinois law\n",
            "Average Rating: -0.8\n",
            "\n",
            "Post: Dr. Fauci says his daughters need security as family continues to get death threats\n",
            "Average Rating: -0.6\n",
            "\n",
            "Post: Comcast quietly drops promise not to charge tolls for Internet fast lanes\n",
            "Average Rating: -0.3\n",
            "\n",
            "Post: Hospitals will have to post prices online starting January 1\n",
            "Average Rating: -0.3\n",
            "\n",
            "Post: Grant Imahara, 'Mythbusters' co-host, dead at 49\n",
            "Average Rating: 0.4\n",
            "\n",
            "Post: Bill Cosby found guilty on all sex assault charges\n",
            "Average Rating: 0.2\n",
            "\n",
            "Post: Mars, Nestlé and Hershey to face landmark child slavery lawsuit in US\n",
            "Average Rating: -0.6\n",
            "\n",
            "Post: Rush Limbaugh dead at 70\n",
            "Average Rating: -0.2\n",
            "\n",
            "Post: US police charged over death of Breonna Taylor\n",
            "Average Rating: -0.3\n",
            "\n",
            "Post: President-elect Joe Biden clears 270-vote threshold in Electoral College count, formalizing his victory\n",
            "Average Rating: 0.1\n",
            "\n",
            "Post: Texas Roadhouse CEO forgoes salary and bonus to pay front-line restaurant employees\n",
            "Average Rating: -0.3\n",
            "\n",
            "Post: Landlord changes locks on California church after pastor said he'd continue to hold services\n",
            "Average Rating: -0.3\n",
            "\n",
            "Post: Twitter closes offices until Monday as employees quit in droves\n",
            "Average Rating: -0.1\n",
            "\n"
          ]
        }
      ]
    },
    {
      "cell_type": "code",
      "source": [
        "user = reddit.redditor('OPINION_IS_UNPOPULAR')\n",
        "submissions = user.submissions.new(limit=None)\n",
        "strToNum = {'negative': -1, 'neutral': 0, 'positive': 1}\n",
        "\n",
        "dates = []\n",
        "avg_rating = []\n",
        "for post in submissions:\n",
        "  title = post.title.lower()\n",
        "  if 'weekend' in title and post.subreddit == 'wallstreetbets':\n",
        "    dates.append(title[45:])\n",
        "\n",
        "    num_comments = 0\n",
        "    comments = []\n",
        "    for comment in post.comments:\n",
        "        if not comment.stickied and not isinstance(comment, MoreComments):\n",
        "          comment_body = clean_tweet(comment.body)\n",
        "          comments.append(comment_body)\n",
        "          num_comments += 1\n",
        "        if (num_comments == 10): break\n",
        "\n",
        "    preds = model.predict(comments)\n",
        "    pred_mean = np.array([strToNum[pred] for pred in preds]).mean()\n",
        "    avg_rating.append(pred_mean)\n",
        "\n",
        "print(len(avg_rating))"
      ],
      "metadata": {
        "colab": {
          "base_uri": "https://localhost:8080/"
        },
        "id": "j54E12XD6V4u",
        "outputId": "5c6f0f10-3ee0-4672-cfeb-a4e61cf5acb8"
      },
      "execution_count": 19,
      "outputs": [
        {
          "output_type": "stream",
          "name": "stdout",
          "text": [
            "21\n"
          ]
        }
      ]
    },
    {
      "cell_type": "code",
      "source": [
        "dates.reverse()\n",
        "avg_rating.reverse()\n",
        "print(dates)"
      ],
      "metadata": {
        "colab": {
          "base_uri": "https://localhost:8080/"
        },
        "id": "gl0-y5nENc1K",
        "outputId": "7ac47fbc-c463-4e55-939f-8792df757f06"
      },
      "execution_count": 20,
      "outputs": [
        {
          "output_type": "stream",
          "name": "stdout",
          "text": [
            "['august 13, 2022', 'august 20, 2022', 'august 27, 2022', 'september 03, 2022', 'september 10, 2022', 'september 17, 2022', 'september 24, 2022', 'october 01, 2022', 'october 08, 2022', 'october 15, 2022', 'october 22, 2022', 'october 29, 2022', 'november 05, 2022', 'november 12, 2022', 'november 19, 2022', 'november 26, 2022', 'december 03, 2022', 'december 10, 2022', 'december 17, 2022', 'december 24, 2022', 'december 31, 2022']\n"
          ]
        }
      ]
    },
    {
      "cell_type": "code",
      "source": [
        "sp_values = [4280.15, 4228.48, 4057.66, 3924.26, 4067.36, 3873.33, 3693.23, 3585.62, 3639.66, 3583.07, 3752.75,\n",
        "             3901.06, 3770.55, 3992.93, 3965.34, 4026.12, 4071.70, 3934.38, 3852.36, 3844.82, 3839.50]\n",
        "\n",
        "ax = sns.lineplot(range(21), avg_rating, marker='o', color='b')\n",
        "ax2 = ax.twinx()\n",
        "sns.lineplot(range(21), sp_values, color='r', ax=ax2)\n",
        "\n",
        "plt.xticks(range(0, 22, 5), labels=[dates[i][:-6] for i in range(0, 22, 5)])\n",
        "ax.set_xlabel('Date')\n",
        "ax.set_ylabel('Sentiment')\n",
        "ax2.set_ylabel('S&P 500')\n",
        "ax.figure.legend(['Wallstreetbet', 'S&P 500'])\n",
        "plt.title('Ratings from 8/13/2022 - 11/31/22')\n",
        "plt.show()"
      ],
      "metadata": {
        "colab": {
          "base_uri": "https://localhost:8080/",
          "height": 398
        },
        "id": "b8J1537JKBqw",
        "outputId": "b36ccc68-42b6-4dfb-9321-4a0461b02579"
      },
      "execution_count": 21,
      "outputs": [
        {
          "output_type": "stream",
          "name": "stderr",
          "text": [
            "/usr/local/lib/python3.8/dist-packages/seaborn/_decorators.py:36: FutureWarning: Pass the following variables as keyword args: x, y. From version 0.12, the only valid positional argument will be `data`, and passing other arguments without an explicit keyword will result in an error or misinterpretation.\n",
            "  warnings.warn(\n",
            "/usr/local/lib/python3.8/dist-packages/seaborn/_decorators.py:36: FutureWarning: Pass the following variables as keyword args: x, y. From version 0.12, the only valid positional argument will be `data`, and passing other arguments without an explicit keyword will result in an error or misinterpretation.\n",
            "  warnings.warn(\n"
          ]
        },
        {
          "output_type": "display_data",
          "data": {
            "text/plain": [
              "<Figure size 432x288 with 2 Axes>"
            ],
            "image/png": "[encoded data removed]"
          },
          "metadata": {
            "needs_background": "light"
          }
        }
      ]
    },
    {
      "cell_type": "code",
      "source": [
        "for date, rating in zip(dates, avg_rating):\n",
        "  print(f\"Date: {date} Rating: {rating}\")"
      ],
      "metadata": {
        "colab": {
          "base_uri": "https://localhost:8080/"
        },
        "id": "vlDWHmUROWkZ",
        "outputId": "ea566a4a-fb92-47d4-a402-d8a083db1f05"
      },
      "execution_count": 22,
      "outputs": [
        {
          "output_type": "stream",
          "name": "stdout",
          "text": [
            "Date: august 13, 2022 Rating: 0.3\n",
            "Date: august 20, 2022 Rating: -0.2\n",
            "Date: august 27, 2022 Rating: -0.2\n",
            "Date: september 03, 2022 Rating: -0.1\n",
            "Date: september 10, 2022 Rating: -0.4\n",
            "Date: september 17, 2022 Rating: -0.4\n",
            "Date: september 24, 2022 Rating: -0.5\n",
            "Date: october 01, 2022 Rating: -0.1\n",
            "Date: october 08, 2022 Rating: 0.0\n",
            "Date: october 15, 2022 Rating: -0.4\n",
            "Date: october 22, 2022 Rating: -0.1\n",
            "Date: october 29, 2022 Rating: -0.4\n",
            "Date: november 05, 2022 Rating: -0.6\n",
            "Date: november 12, 2022 Rating: -0.5\n",
            "Date: november 19, 2022 Rating: -0.5\n",
            "Date: november 26, 2022 Rating: -0.4\n",
            "Date: december 03, 2022 Rating: -0.2\n",
            "Date: december 10, 2022 Rating: -0.4\n",
            "Date: december 17, 2022 Rating: -0.4\n",
            "Date: december 24, 2022 Rating: -0.1\n",
            "Date: december 31, 2022 Rating: -0.3\n"
          ]
        }
      ]
    },
    {
      "cell_type": "code",
      "source": [
        "sp_values = [4280.15, 4228.48, 4057.66, 3924.26, 4067.36, 3873.33, 3693.23, 3585.62, 3639.66, 3583.07, 3752.75,\n",
        "             3901.06, 3770.55, 3992.93, 3965.34, 4026.12, 4071.70, 3934.38, 3852.36, 3844.82, 3839.50]\n",
        "print(np.corrcoef(sp_values[1:], avg_rating[:-1]))"
      ],
      "metadata": {
        "colab": {
          "base_uri": "https://localhost:8080/"
        },
        "id": "uQxLEpxHR_7p",
        "outputId": "9a6150c8-2fc3-4ade-fb42-6042cc2397f2"
      },
      "execution_count": 23,
      "outputs": [
        {
          "output_type": "stream",
          "name": "stdout",
          "text": [
            "[[1.         0.19665288]\n",
            " [0.19665288 1.        ]]\n"
          ]
        }
      ]
    }
  ]
}